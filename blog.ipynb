{
 "cells": [
  {
   "cell_type": "code",
   "execution_count": 5,
   "id": "a25a2c13-b25e-419a-a3d1-454258230466",
   "metadata": {
    "tags": []
   },
   "outputs": [],
   "source": [
    "import requests\n",
    "from bs4 import BeautifulSoup"
   ]
  },
  {
   "cell_type": "code",
   "execution_count": 59,
   "id": "685929e2-e5ce-41d9-8750-23a0740fa0d1",
   "metadata": {
    "tags": []
   },
   "outputs": [],
   "source": [
    "# https://keionkakimasen.hatenadiary.com/archive\n",
    "# https://keionkakimasen.hatenadiary.com/archive?page=2\n",
    "url = \"https://keionkakimasen.hatenadiary.com/archive?page=2\""
   ]
  },
  {
   "cell_type": "code",
   "execution_count": 61,
   "id": "5e226653-25a8-4cf1-9c02-725f41160ae9",
   "metadata": {
    "tags": []
   },
   "outputs": [],
   "source": [
    "l = []"
   ]
  },
  {
   "cell_type": "code",
   "execution_count": 60,
   "id": "bf050e70-83e9-4850-b7b8-727c603f64ee",
   "metadata": {
    "tags": []
   },
   "outputs": [],
   "source": [
    "html = requests.get(url)\n",
    "soup = BeautifulSoup(html.text) \n",
    "alinks = soup.select('a')\n",
    "\n",
    "for a_link in alinks:\n",
    "    if a_link.get(\"class\")!=None:\n",
    "        if 'entry-title-link' in a_link.get(\"class\"):\n",
    "            # l.append([\"/\".join(alinks[3].get('href').split(\"/\")[-4:-1]),a_link.getText(),a_link.get('href'),\"\\n\"])\n",
    "            print(\"/\".join(alinks[3].get('href').split(\"/\")[-4:-1]),a_link.getText(),a_link.get('href'),\"\\n\")"
   ]
  },
  {
   "cell_type": "code",
   "execution_count": 64,
   "id": "e20cd357-8ddb-4bd5-9cd1-866dc936b51e",
   "metadata": {
    "tags": []
   },
   "outputs": [
    {
     "data": {
      "text/plain": [
       "30"
      ]
     },
     "execution_count": 64,
     "metadata": {},
     "output_type": "execute_result"
    }
   ],
   "source": [
    "len(l)"
   ]
  },
  {
   "cell_type": "code",
   "execution_count": 67,
   "id": "c8b35a90-cf64-48ee-a6f8-1a0b9a8a58ce",
   "metadata": {
    "tags": []
   },
   "outputs": [],
   "source": [
    "url = \"https://keionkakimasen.hatenadiary.com/archive?page=2\"\n",
    "html = requests.get(url)\n",
    "soup = BeautifulSoup(html.text,features=\"html.parser\")\n",
    "alinks = soup.select('a')"
   ]
  },
  {
   "cell_type": "code",
   "execution_count": 79,
   "id": "6a079727-83f1-4831-abf1-f90afb2a764b",
   "metadata": {
    "collapsed": true,
    "jupyter": {
     "outputs_hidden": true
    },
    "tags": []
   },
   "outputs": [
    {
     "data": {
      "text/plain": [
       "[<a class=\"entry-title-link\" href=\"https://keionkakimasen.hatenadiary.com/entry/2022/12/14/025942\">BEMANI収録のBPM140ぐらいのおすすめダンス・ミュージックをいくつか紹介</a>,\n",
       " <a class=\"entry-title-link\" href=\"https://keionkakimasen.hatenadiary.com/entry/LetReefsliderDestroyBombs\">て</a>,\n",
       " <a class=\"entry-title-link\" href=\"https://keionkakimasen.hatenadiary.com/entry/2022/12/05/194908\">ただの日記 〜 縺溘□縺ｮ繝九ャ繧ｭ</a>,\n",
       " <a class=\"entry-title-link\" href=\"https://keionkakimasen.hatenadiary.com/entry/2022/11/29/163758\">RESIDENT十段、衝撃のラストに一同涙...~九段を飛ばしたいあなたへ~</a>,\n",
       " <a class=\"entry-title-link\" href=\"https://keionkakimasen.hatenadiary.com/entry/2022/11/25/202000\">スティンガーさんの絵を学習してみた</a>,\n",
       " <a class=\"entry-title-link\" href=\"https://keionkakimasen.hatenadiary.com/entry/popn_world_cup_qatar_2022\">ポップンワールドカップ　カタール2022</a>,\n",
       " <a class=\"entry-title-link\" href=\"https://keionkakimasen.hatenadiary.com/entry/2022/11/22/075914\">数学に出てくる関数のグラフや曲線をSDVXのつまみ配置に登場させるとどうなるのか考えた話</a>,\n",
       " <a class=\"entry-title-link\" href=\"https://keionkakimasen.hatenadiary.com/entry/2022/11/18/210000\">そこに「祭」があるじゃないか</a>,\n",
       " <a class=\"entry-title-link\" href=\"https://keionkakimasen.hatenadiary.com/entry/2022/11/18/190000\">kuoc_blog_award_2022上半期</a>,\n",
       " <a class=\"entry-title-link\" href=\"https://keionkakimasen.hatenadiary.com/entry/BEAT_PRISONER_IS_EXECUTED\"> 【IIDX】明日赤段位？京音メンバーがRESIDENT SP赤段位を予想してみた！ </a>,\n",
       " <a class=\"entry-title-link\" href=\"https://keionkakimasen.hatenadiary.com/entry/2022/11/15/212618\">微課金クリオグリ難民によるスコーピオ杯奮闘記</a>,\n",
       " <a class=\"entry-title-link\" href=\"https://keionkakimasen.hatenadiary.com/entry/2022/11/12/190000\">【beatmaniaIIDX】初心者の私がつまづいた仕様・システムを全部解説します</a>,\n",
       " <a class=\"entry-title-link\" href=\"https://keionkakimasen.hatenadiary.com/entry/music_focus_3_winter\">KEION MUSIC FOCUS 第3話「冬」</a>,\n",
       " <a class=\"entry-title-link\" href=\"https://keionkakimasen.hatenadiary.com/entry/2022/11/06/173000\">「“おにまい”PV第1弾」ガン見メイツ！！！！！！！！</a>,\n",
       " <a class=\"entry-title-link\" href=\"https://keionkakimasen.hatenadiary.com/entry/2022/11/02/110430\">音ゲークイズを作ってみた人～裏都16th振り返り部門～</a>,\n",
       " <a class=\"entry-title-link\" href=\"https://keionkakimasen.hatenadiary.com/entry/2022/11/01/190425\">第1回若者会活動報告【後編】｢若者会会議議事録｣</a>,\n",
       " <a class=\"entry-title-link\" href=\"https://keionkakimasen.hatenadiary.com/entry/2022/11/01/183026\">東京紀行　2022秋編</a>,\n",
       " <a class=\"entry-title-link\" href=\"https://keionkakimasen.hatenadiary.com/entry/2022/10/30/191200\">【執行代記事・10月】都16th・例会開催について</a>,\n",
       " <a class=\"entry-title-link\" href=\"https://keionkakimasen.hatenadiary.com/entry/2022/10/30/002340\">オンゲキで、レート16.00歳JKになった。</a>,\n",
       " <a class=\"entry-title-link\" href=\"https://keionkakimasen.hatenadiary.com/entry/2022/10/28/181514\">第1回若者会活動報告【前編】｢若者よ、音ゲー”知力”をつけよ｣</a>,\n",
       " <a class=\"entry-title-link\" href=\"https://keionkakimasen.hatenadiary.com/entry/2022/10/27/104238\">京音２回生の引きこもりでもゲーセン行くらしい</a>,\n",
       " <a class=\"entry-title-link\" href=\"https://keionkakimasen.hatenadiary.com/entry/2022/10/22/164909\">0から始めるオンゲキ上達法～目指せレート16編～</a>,\n",
       " <a class=\"entry-title-link\" href=\"https://keionkakimasen.hatenadiary.com/entry/2022/10/18/140533\">都16th出場辞退者による”本当は投げるつもりだった曲”集</a>,\n",
       " <a class=\"entry-title-link\" href=\"https://keionkakimasen.hatenadiary.com/entry/2022/10/16/222636\">【笑顔】都16thオンゲキ部門振り返り対談まとめ！！【大変笑顔】</a>,\n",
       " <a class=\"entry-title-link\" href=\"https://keionkakimasen.hatenadiary.com/entry/2022/10/14/233409\">限界大喜利TRPG「怪談白物語」をやってみよう！</a>,\n",
       " <a class=\"entry-title-link\" href=\"https://keionkakimasen.hatenadiary.com/entry/2022/10/12/173240\">AIにArcaeaの対立ちゃんを描いてもらおう！【Stablediffusion】</a>,\n",
       " <a class=\"entry-title-link\" href=\"https://keionkakimasen.hatenadiary.com/entry/2022/10/07/175447\">【徹底解説】まじかる☆キングダム完全攻略ガイド【本体編】</a>,\n",
       " <a class=\"entry-title-link\" href=\"https://keionkakimasen.hatenadiary.com/entry/2022/10/05/120000\">夏休み、終わっちまった・・・</a>,\n",
       " <a class=\"entry-title-link\" href=\"https://keionkakimasen.hatenadiary.com/entry/2022/10/01/203101\">【CHUNITHM】この配置、擦ってAJ/理論値通過できる？全押し連打で通る？判別法と判定幅・縦連判定を解説 ～ 2022/10/01</a>,\n",
       " <a class=\"entry-title-link\" href=\"https://keionkakimasen.hatenadiary.com/entry/2022/09/26/170054\">医学エアプによる解剖学書書評</a>]"
      ]
     },
     "execution_count": 79,
     "metadata": {},
     "output_type": "execute_result"
    }
   ],
   "source": [
    "[ a_link for a_link in alinks if ( (a_link.get(\"class\")!=None) and ('entry-title-link' in a_link.get(\"class\")) ) ]"
   ]
  },
  {
   "cell_type": "code",
   "execution_count": null,
   "id": "01e17188-b7f7-4490-ac41-5d184393ab15",
   "metadata": {
    "tags": []
   },
   "outputs": [],
   "source": []
  },
  {
   "cell_type": "code",
   "execution_count": null,
   "id": "f0408c6c-1d58-4683-ac51-a3d9255fbf95",
   "metadata": {},
   "outputs": [],
   "source": []
  },
  {
   "cell_type": "code",
   "execution_count": null,
   "id": "48f71626-8a9b-473b-b32c-e65cff1d65a4",
   "metadata": {},
   "outputs": [],
   "source": []
  },
  {
   "cell_type": "code",
   "execution_count": null,
   "id": "bbded688-e7dd-4e90-94c4-0a9b75ed3489",
   "metadata": {},
   "outputs": [],
   "source": []
  },
  {
   "cell_type": "code",
   "execution_count": null,
   "id": "42746428-2d59-4439-9c26-ddd87df10b7d",
   "metadata": {},
   "outputs": [],
   "source": []
  }
 ],
 "metadata": {
  "kernelspec": {
   "display_name": "Python 3 (ipykernel)",
   "language": "python",
   "name": "python3"
  },
  "language_info": {
   "codemirror_mode": {
    "name": "ipython",
    "version": 3
   },
   "file_extension": ".py",
   "mimetype": "text/x-python",
   "name": "python",
   "nbconvert_exporter": "python",
   "pygments_lexer": "ipython3",
   "version": "3.11.2"
  }
 },
 "nbformat": 4,
 "nbformat_minor": 5
}
